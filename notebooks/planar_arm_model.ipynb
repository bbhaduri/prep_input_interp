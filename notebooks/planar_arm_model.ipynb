{
 "cells": [
  {
   "cell_type": "code",
   "execution_count": 125,
   "id": "c6268606",
   "metadata": {},
   "outputs": [],
   "source": [
    "import jax.numpy as jnp\n",
    "import matplotlib.pyplot as plt\n",
    "import numpy as np"
   ]
  },
  {
   "cell_type": "code",
   "execution_count": 191,
   "id": "2e175bf8",
   "metadata": {},
   "outputs": [],
   "source": [
    "class ArmParams():\n",
    "    def __init__(self):\n",
    "        \"\"\"\n",
    "        \"\"\"\n",
    "        # Define physical properties of arm model\n",
    "        #TODO: Make this an argument\n",
    "        # arm lengths\n",
    "        self.L1, self.L2 = 0.30, 0.30 #m\n",
    "        # arm masses\n",
    "        M1, M2 = 1.4, 1.0 #kg\n",
    "        # moments of inertia\n",
    "        I1, I2 = .025, .045 #kg/m^2\n",
    "        # center of mass for lower arm\n",
    "        D2 = .16 #m\n",
    "\n",
    "        # constants for dynamics\n",
    "        self.a1 = I1 + I2 + (M2*self.L1**2)\n",
    "        self.a2 = (M2*self.L1*D2)\n",
    "        self.a3 = I2\n",
    "\n",
    "        # Constant damping matrix\n",
    "        self.B = jnp.array(\n",
    "            [(.05, .025),\n",
    "            (.025, .05)]\n",
    "        )\n",
    "        \n",
    "        # step size\n",
    "        self.dt = .001\n",
    "\n",
    "\n",
    "# Define functions to calculate matrices for forward dynamics\n",
    "def calc_dyn_mats(state, arm_params):\n",
    "    \"\"\"\n",
    "    \"\"\"\n",
    "    # extract state vars\n",
    "    theta1, theta2, dtheta1, dtheta2 = state.squeeze().tolist()\n",
    "    # Update Matrix of inertia\n",
    "    m_theta = jnp.array(\n",
    "        [(arm_params.a1+2*arm_params.a2*jnp.cos(theta2), arm_params.a3+arm_params.a2*jnp.cos(theta2)),\n",
    "        (arm_params.a3+arm_params.a2*jnp.cos(theta2), arm_params.a3)]\n",
    "    )\n",
    "    # Update Centripetal and Coriolis forces\n",
    "    C = (arm_params.a2*jnp.sin(theta2)) * jnp.array(\n",
    "        [(-dtheta2*(2*dtheta1+dtheta2)), (dtheta1**2)]\n",
    "    ).reshape(-1,1)\n",
    "    \n",
    "    return m_theta, C\n",
    "\n",
    "# Define function for calculating arm positions\n",
    "def calc_arm_pos(thetas, arm_params):\n",
    "    \"\"\"\n",
    "    \"\"\"\n",
    "    # Exrtact necessary state vars\n",
    "    theta1, theta2 = thetas.squeeze().tolist()\n",
    "    # Calculate positions and return\n",
    "    elbow_pos = jnp.array([\n",
    "        (arm_params.L1*jnp.cos(theta1)), (arm_params.L1*jnp.sin(theta1))\n",
    "    ])\n",
    "    hand_pos = jnp.array(\n",
    "        [(elbow_pos[0].item() + arm_params.L2*jnp.cos(theta1+theta2)),\n",
    "         (elbow_pos[1].item() + arm_params.L2*jnp.sin(theta1+theta2))]\n",
    "    )\n",
    "    \n",
    "    return jnp.vstack([hand_pos, elbow_pos])\n",
    "\n",
    "# Define dynamics step\n",
    "def arm_step(torques, state, arm_params):\n",
    "    \"\"\"\n",
    "    \"\"\"\n",
    "    # Extract angles for updating arm positions\n",
    "    theta1, theta2, dtheta1, dtheta2 = state.squeeze().tolist()\n",
    "    dthetas = jnp.array([(dtheta1), (dtheta2)]).reshape(-1, 1)\n",
    "    # Update dynamics matrices\n",
    "    m_theta, C = calc_dyn_mats(state, arm_params)\n",
    "    # Forward dynamics of torques applied to arm\n",
    "    d2thetas = jnp.linalg.inv(m_theta) @ (torques - C + (arm_params.B@dthetas))\n",
    "    # New state\n",
    "    dstate = jnp.vstack([dthetas, d2thetas])\n",
    "\n",
    "    # Update state (TODO: May want to use a more powerful integration method)\n",
    "    n_state = state + arm_params.dt*dstate\n",
    "\n",
    "    # Calculate new arm positions (hand and elbow)\n",
    "    arm_pos = calc_arm_pos(n_state[:2], arm_params)\n",
    "    \n",
    "    return n_state, arm_pos\n",
    "    "
   ]
  },
  {
   "cell_type": "code",
   "execution_count": 192,
   "id": "4899e779",
   "metadata": {},
   "outputs": [],
   "source": [
    "arm_params = ArmParams()\n",
    "init_state = jnp.zeros((4,1))*1.\n",
    "torques = jnp.ones((2,1)) * 10 "
   ]
  },
  {
   "cell_type": "code",
   "execution_count": 193,
   "id": "9ca3b40a",
   "metadata": {},
   "outputs": [],
   "source": [
    "n_state, arm_pos = arm_step(torques, init_state, arm_params)"
   ]
  },
  {
   "cell_type": "code",
   "execution_count": 194,
   "id": "8fe28ae1",
   "metadata": {},
   "outputs": [
    {
     "data": {
      "text/plain": [
       "Array([[ 0.        ],\n",
       "       [ 0.        ],\n",
       "       [-0.16718918],\n",
       "       [ 0.5677466 ]], dtype=float32)"
      ]
     },
     "execution_count": 194,
     "metadata": {},
     "output_type": "execute_result"
    }
   ],
   "source": [
    "n_state"
   ]
  },
  {
   "cell_type": "code",
   "execution_count": 197,
   "id": "c09babd1",
   "metadata": {},
   "outputs": [
    {
     "data": {
      "text/plain": [
       "Array([[0.6, 0. ],\n",
       "       [0.3, 0. ]], dtype=float32)"
      ]
     },
     "execution_count": 197,
     "metadata": {},
     "output_type": "execute_result"
    }
   ],
   "source": [
    "arm_pos"
   ]
  },
  {
   "cell_type": "code",
   "execution_count": 243,
   "id": "7deadacb",
   "metadata": {},
   "outputs": [],
   "source": [
    "def init_radial_targets(arm_params, init_pos=[0.4, 0.25], radius=0.12):\n",
    "    # Set starting positions\n",
    "    x0, y0 = init_pos\n",
    "    \n",
    "    # Get target locations\n",
    "    target_angles = jnp.array([0., 45., 90., 135., 180., 225., 270., 315.])*(2*jnp.pi/360)\n",
    "    target_x = x0 + (jnp.cos(target_angles)*radius)\n",
    "    target_y = y0 + (jnp.sin(target_angles)*radius)\n",
    "    targets = jnp.concat([target_x[:, None], target_y[:, None]], axis=1)\n",
    "    \n",
    "    # Get initial angles\n",
    "    theta1 = np.arctan2(y0, x0) - np.arccos((x0**2 + y0**2 + arm_params.L1**2 - arm_params.L2**2)\n",
    "                                                     /(2*arm_params.L1*(x0**2 + y0**2)**0.5))\n",
    "    theta2 = np.arccos((x0**2 + y0**2 - arm_params.L1**2 - arm_params.L2**2)/(2*arm_params.L1*arm_params.L2))\n",
    "    thetas = jnp.vstack([theta1, theta2])\n",
    "    \n",
    "    # Get elbow and arm pos\n",
    "    init_arm_pos = calc_arm_pos(thetas, arm_params)\n",
    "\n",
    "    return targets, init_arm_pos, thetas"
   ]
  },
  {
   "cell_type": "code",
   "execution_count": 244,
   "id": "459f2ec1",
   "metadata": {},
   "outputs": [],
   "source": [
    "targets, init_arm_pos, thetas = init_radial_targets(arm_params)"
   ]
  },
  {
   "cell_type": "code",
   "execution_count": 250,
   "id": "29a9aa92",
   "metadata": {
    "scrolled": false
   },
   "outputs": [
    {
     "data": {
      "text/plain": [
       "[<matplotlib.lines.Line2D at 0x7fd73bd285e0>]"
      ]
     },
     "execution_count": 250,
     "metadata": {},
     "output_type": "execute_result"
    },
    {
     "data": {
      "image/png": "[encoded data removed]",
      "text/plain": [
       "<Figure size 640x480 with 1 Axes>"
      ]
     },
     "metadata": {},
     "output_type": "display_data"
    }
   ],
   "source": [
    "fig = plt.figure()\n",
    "# Target locations\n",
    "plt.scatter(targets[:, 0]*100, targets[:, 1]*100, marker='s', color='green', s=200) #TODO, figure out how big these need to be\n",
    "\n",
    "# Start Locations\n",
    "plt.scatter(0., 0., color='red') # Shoulder\n",
    "plt.scatter(init_arm_pos[0, 0]*100, init_arm_pos[0, 1]*100, color='red') # Hand\n",
    "plt.scatter(init_arm_pos[1, 0]*100, init_arm_pos[1, 1]*100, color='red') # Elbow\n",
    "\n",
    "# Make arms by connecting joints\n",
    "plt.plot([0., init_arm_pos[1, 0]*100], [0., init_arm_pos[1, 1]*100], color='blue') # Lower Arm\n",
    "plt.plot(\n",
    "    [init_arm_pos[0, 0]*100, init_arm_pos[1, 0]*100],\n",
    "    [init_arm_pos[0, 1]*100, init_arm_pos[1, 1]*100], color='blue')"
   ]
  },
  {
   "cell_type": "code",
   "execution_count": null,
   "id": "b0686e56",
   "metadata": {},
   "outputs": [],
   "source": []
  }
 ],
 "metadata": {
  "kernelspec": {
   "display_name": "Python (prep_input)",
   "language": "python",
   "name": "prep_input"
  },
  "language_info": {
   "codemirror_mode": {
    "name": "ipython",
    "version": 3
   },
   "file_extension": ".py",
   "mimetype": "text/x-python",
   "name": "python",
   "nbconvert_exporter": "python",
   "pygments_lexer": "ipython3",
   "version": "3.10.16"
  }
 },
 "nbformat": 4,
 "nbformat_minor": 5
}
