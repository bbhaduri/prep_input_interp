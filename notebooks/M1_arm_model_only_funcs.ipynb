{
 "cells": [
  {
   "cell_type": "code",
   "execution_count": 1,
   "id": "c6268606",
   "metadata": {},
   "outputs": [],
   "source": [
    "# Import general needed libraries\n",
    "import jax\n",
    "jax.config.update('jax_enable_x64', True)\n",
    "jax.config.update('jax_num_cpu_devices', 30)\n",
    "\n",
    "import jax.numpy as jnp\n",
    "import jax.random as jr\n",
    "import time\n",
    "\n",
    "%matplotlib notebook\n",
    "import matplotlib.pyplot as plt\n",
    "from matplotlib.animation import FuncAnimation, PillowWriter\n",
    "\n",
    "# Import necessary libraries for optimization procedure\n",
    "from typing import NamedTuple\n",
    "from diffilqrax import ilqr\n",
    "from diffilqrax.utils import initialise_stable_dynamics, keygen\n",
    "from diffilqrax.ilqr import ilqr_solver\n",
    "from diffilqrax.typs import (\n",
    "    iLQRParams,\n",
    "    Theta,\n",
    "    System,\n",
    "    ModelDims,\n",
    ")\n",
    "from src.arm_model import *\n",
    "\n",
    "\n",
    "# Generate keys\n",
    "key = jr.PRNGKey(seed=0)\n",
    "key, skeys = keygen(key, 5)"
   ]
  },
  {
   "cell_type": "code",
   "execution_count": 2,
   "id": "8d504c75",
   "metadata": {},
   "outputs": [
    {
     "data": {
      "text/plain": [
       "[CpuDevice(id=0),\n",
       " CpuDevice(id=1),\n",
       " CpuDevice(id=2),\n",
       " CpuDevice(id=3),\n",
       " CpuDevice(id=4),\n",
       " CpuDevice(id=5),\n",
       " CpuDevice(id=6),\n",
       " CpuDevice(id=7),\n",
       " CpuDevice(id=8),\n",
       " CpuDevice(id=9),\n",
       " CpuDevice(id=10),\n",
       " CpuDevice(id=11),\n",
       " CpuDevice(id=12),\n",
       " CpuDevice(id=13),\n",
       " CpuDevice(id=14),\n",
       " CpuDevice(id=15),\n",
       " CpuDevice(id=16),\n",
       " CpuDevice(id=17),\n",
       " CpuDevice(id=18),\n",
       " CpuDevice(id=19),\n",
       " CpuDevice(id=20),\n",
       " CpuDevice(id=21),\n",
       " CpuDevice(id=22),\n",
       " CpuDevice(id=23),\n",
       " CpuDevice(id=24),\n",
       " CpuDevice(id=25),\n",
       " CpuDevice(id=26),\n",
       " CpuDevice(id=27),\n",
       " CpuDevice(id=28),\n",
       " CpuDevice(id=29)]"
      ]
     },
     "execution_count": 2,
     "metadata": {},
     "output_type": "execute_result"
    }
   ],
   "source": [
    "jax.devices()"
   ]
  },
  {
   "cell_type": "code",
   "execution_count": 3,
   "id": "30ba8d34",
   "metadata": {},
   "outputs": [],
   "source": [
    "# Initialize Task\n",
    "init_thetas, target_angles, targets = init_radial_task()\n",
    "init_thetas = init_thetas.squeeze()\n",
    "init_state = jnp.vstack([init_thetas[:, None], jnp.zeros((2,1))]).squeeze()"
   ]
  },
  {
   "cell_type": "code",
   "execution_count": 4,
   "id": "1f9e58f5",
   "metadata": {},
   "outputs": [
    {
     "data": {
      "text/plain": [
       "Array([0.72972766, 1.68213734, 0.        , 0.        ], dtype=float64)"
      ]
     },
     "execution_count": 4,
     "metadata": {},
     "output_type": "execute_result"
    }
   ],
   "source": [
    "# Test update of state when squeezed\n",
    "update_state(init_state, jnp.zeros((2,)))"
   ]
  },
  {
   "cell_type": "markdown",
   "id": "1753f768",
   "metadata": {},
   "source": [
    "## iLQR Solver Below (Non-Functioning)"
   ]
  },
  {
   "cell_type": "code",
   "execution_count": 5,
   "id": "d0423d45",
   "metadata": {},
   "outputs": [],
   "source": [
    "# Define dynamics step\n",
    "# Add arm_params to theta, update arm state as arm_params\n",
    "def m1_arm_step(t, x, u, theta):\n",
    "    \"\"\"\n",
    "    \"\"\"\n",
    "    m1_state = x[:-4]\n",
    "    # Forward step M1 dynamics (Tau is 150 ms)\n",
    "    m1_state_dot = ((-1 * m1_state) + theta.Uh @ jax.nn.relu(m1_state) + theta.h + theta.Wh @ u)/150\n",
    "    n_m1_state = m1_state + dt * m1_state_dot\n",
    "    \n",
    "    return jnp.vstack([n_m1_state[:, None], x[-4:, None]]).squeeze()"
   ]
  },
  {
   "cell_type": "code",
   "execution_count": 6,
   "id": "866d62be",
   "metadata": {},
   "outputs": [],
   "source": [
    "def cost(t, x, u, theta):\n",
    "    \"\"\"\n",
    "    \"\"\"\n",
    "    arm_x = x[-4:]\n",
    "    target = theta.target\n",
    "    arm_x0 = theta.init_thetas\n",
    "    \n",
    "    # target cost\n",
    "    # delay period (300 ms) and T (900 ms)\n",
    "    t_cost = jax.lax.select(\n",
    "        t >= 300,\n",
    "        ((t-300.)**2/900.**2) * jnp.sum((arm_x[:2]-target)**2),\n",
    "        jnp.array(0.)\n",
    "    )\n",
    "    \n",
    "    # Calculate torques\n",
    "    neur_x = x[:200]\n",
    "    torques = theta.C @ jax.nn.relu(neur_x)\n",
    "    \n",
    "    # null cost\n",
    "    alpha_null = 1.\n",
    "    n_cost = alpha_null * jax.lax.select(\n",
    "        t < 300,\n",
    "        (\n",
    "            jnp.sum((arm_x[:2]-arm_x0)**2) +\n",
    "            jnp.sum((arm_x[2:])**2) +\n",
    "            jnp.sum((torques)**2) \n",
    "        ),\n",
    "        jnp.array(0.)\n",
    "    )\n",
    "    \n",
    "    # effort cost\n",
    "    #NOTE: Want to make this a penalty on the input derivative!\n",
    "    alpha_effort = 5.e-7\n",
    "    e_cost = (alpha_effort/len(u)) * jnp.sum((u)**2)\n",
    "    \n",
    "    return t_cost + n_cost + e_cost\n",
    "\n",
    "def costf(x, theta):\n",
    "    \"\"\"\n",
    "    Think this is just the final cost\n",
    "    \"\"\"\n",
    "    # target cost\n",
    "    arm_final = x[-4:-2]\n",
    "    target = theta.target\n",
    "    \n",
    "    return jnp.sum((arm_final-target)**2)\n",
    "    \n",
    "    "
   ]
  },
  {
   "cell_type": "code",
   "execution_count": 7,
   "id": "1cf875cb",
   "metadata": {},
   "outputs": [],
   "source": [
    "class M1ArmParams():\n",
    "    def __init__(self, Uh, Wh, sigma, Q, C, h, target, init_thetas):\n",
    "        \"\"\"\n",
    "        \"\"\"\n",
    "        # Add arguments as attributes\n",
    "        self.Uh = Uh\n",
    "        self.Wh = Wh\n",
    "        self.sigma = sigma\n",
    "        self.Q = Q\n",
    "        self.C = C\n",
    "        self.h = h\n",
    "        self.target = target\n",
    "        self.init_thetas = init_thetas\n",
    "        \n",
    "    def __repr__(self):\n",
    "        return f\"M1ArmParams(Uh={self.Uh}, Wh={self.Wh}, sigma={self.sigma}, Q={self.Q}, C={self.C}, h={self.h}, target={self.target}, init_thetas={init_thetas})\"\n",
    "\n",
    "# Register the class with JAX's pytree system\n",
    "def tree_flatten(obj):\n",
    "    # Separate JAX arrays (children/leaves) from static data (metadata)\n",
    "    children = (obj.Uh, obj.Wh, obj.sigma, obj.Q, obj.C, obj.h, obj.target, obj.init_thetas)\n",
    "    return (children, None)\n",
    "\n",
    "def tree_unflatten(aux_data, children):\n",
    "    # Reconstruct the class from flattened data\n",
    "    Uh, Wh, sigma, Q, C, h, target, init_thetas = children\n",
    "    return M1ArmParams(\n",
    "        Uh=Uh, \n",
    "        Wh=Wh,\n",
    "        sigma=sigma,\n",
    "        Q=Q,\n",
    "        C=C,\n",
    "        h=h,\n",
    "        target=target,\n",
    "        init_thetas=init_thetas\n",
    "    )\n",
    "\n",
    "jax.tree_util.register_pytree_node(\n",
    "    M1ArmParams,\n",
    "    tree_flatten,\n",
    "    tree_unflatten\n",
    ")"
   ]
  },
  {
   "cell_type": "code",
   "execution_count": 8,
   "id": "031ed516",
   "metadata": {},
   "outputs": [],
   "source": [
    "dims = ModelDims(horizon=1200, n=204, m=200, dt=0.001)\n",
    "\n",
    "key = jr.PRNGKey(seed=234)\n",
    "key, skeys = keygen(key, 10)\n",
    "\n",
    "# TODO: Design Dynamics matrix using Schur Decomp\n",
    "# Start with stable dynamics to see if even trainable\n",
    "Uh = initialise_stable_dynamics(next(skeys), dims.n-4, dims.horizon, 0.6)[0]\n",
    "# Identity for Input Matrix, B\n",
    "Wh = jnp.identity(dims.m)\n",
    "# Initialize Dynamics Parameters\n",
    "C = (.05/jnp.sqrt(dims.n)) * jr.normal(next(skeys), shape=(2, dims.n-4))\n",
    "h = 5. + 5. * jr.normal(next(skeys), shape=(dims.n-4,))\n",
    "\n",
    "target = jr.choice(next(skeys), target_angles).reshape(-1,)\n",
    "\n",
    "theta = M1ArmParams(\n",
    "    Uh, Wh, jnp.zeros(dims.n), jnp.eye(dims.n), C, h, target, init_thetas\n",
    ")\n",
    "\n",
    "# Create iLQR Params\n",
    "init_state = jnp.vstack([\n",
    "    jr.normal(next(skeys), (dims.n-4,1)), # Neural State\n",
    "    jnp.vstack([theta.init_thetas[:, None], jnp.zeros((2,1))]) # Arm State\n",
    "]).squeeze()\n",
    "params = iLQRParams(x0=init_state, theta=theta)\n",
    "\n",
    "Us = jnp.zeros((dims.horizon, dims.m))   \n",
    "# define linesearch hyper parameters\n",
    "ls_kwargs = {\n",
    "    \"beta\":0.8,\n",
    "    \"max_iter_linesearch\":16,\n",
    "    \"tol\":1e0,\n",
    "    \"alpha_min\":0.0001,\n",
    "    }\n",
    "\n",
    "model = System(cost, costf, m1_arm_step, dims)"
   ]
  },
  {
   "cell_type": "code",
   "execution_count": 9,
   "id": "895189fa",
   "metadata": {},
   "outputs": [],
   "source": [
    "jax.config.update(\"jax_debug_nans\", True)"
   ]
  },
  {
   "cell_type": "code",
   "execution_count": 10,
   "id": "2e3b358b",
   "metadata": {},
   "outputs": [],
   "source": [
    "(Cxx,Cxu), (_,Cuu) = model.quad_cost(0., init_state, jnp.zeros(200,), theta)"
   ]
  },
  {
   "cell_type": "code",
   "execution_count": 11,
   "id": "d72f6b02",
   "metadata": {},
   "outputs": [
    {
     "data": {
      "text/plain": [
       "Array([[0., 0., 0., ..., 0., 0., 0.],\n",
       "       [0., 0., 0., ..., 0., 0., 0.],\n",
       "       [0., 0., 0., ..., 0., 0., 0.],\n",
       "       ...,\n",
       "       [0., 0., 0., ..., 0., 0., 0.],\n",
       "       [0., 0., 0., ..., 0., 0., 0.],\n",
       "       [0., 0., 0., ..., 0., 0., 0.]], dtype=float64)"
      ]
     },
     "execution_count": 11,
     "metadata": {},
     "output_type": "execute_result"
    }
   ],
   "source": [
    "Cxu"
   ]
  },
  {
   "cell_type": "code",
   "execution_count": 12,
   "id": "ccd96a8d",
   "metadata": {},
   "outputs": [
    {
     "data": {
      "text/plain": [
       "(204,)"
      ]
     },
     "execution_count": 12,
     "metadata": {},
     "output_type": "execute_result"
    }
   ],
   "source": [
    "# Test dynamics function\n",
    "res = m1_arm_step(t=0., x=jnp.zeros(204,), u=jnp.zeros(200,), theta=theta)\n",
    "res.shape"
   ]
  },
  {
   "cell_type": "code",
   "execution_count": null,
   "id": "805750ac",
   "metadata": {},
   "outputs": [],
   "source": [
    "start_time = time.time()\n",
    "(opt_xs, opt_us, opt_lambdas), ilqr_fcost, cost_log = ilqr.ilqr_solver(\n",
    "    model,\n",
    "    params,\n",
    "    Us,\n",
    "    max_iter=70,\n",
    "    convergence_thresh=1e-10,\n",
    "    alpha_init=1.,\n",
    "    verbose=True,\n",
    "    use_linesearch=True,\n",
    "    **ls_kwargs\n",
    ")\n",
    "opt_time = time.time() - start_time"
   ]
  },
  {
   "cell_type": "code",
   "execution_count": null,
   "id": "a2a65744",
   "metadata": {},
   "outputs": [],
   "source": [
    "cost_log"
   ]
  },
  {
   "cell_type": "code",
   "execution_count": null,
   "id": "384b242a",
   "metadata": {},
   "outputs": [],
   "source": [
    "fig = plt.figure()\n",
    "plt.plot(opt_us[])\n",
    "plt.show()"
   ]
  },
  {
   "cell_type": "code",
   "execution_count": null,
   "id": "1699979a",
   "metadata": {},
   "outputs": [],
   "source": [
    "opt_time/60 #min"
   ]
  },
  {
   "cell_type": "code",
   "execution_count": null,
   "id": "217b16e6",
   "metadata": {},
   "outputs": [],
   "source": [
    "def calc_pos(thetas):\n",
    "    \"\"\"\n",
    "    \"\"\"\n",
    "    # Extract necessary state vars\n",
    "    theta1, theta2 = thetas\n",
    "    # Calculate positions and return\n",
    "    elbow_pos = jnp.array([\n",
    "        (L1*jnp.cos(theta1)), (L1*jnp.sin(theta1))\n",
    "    ])\n",
    "    print(elbow_pos.shape)\n",
    "\n",
    "    hand_pos = jnp.array(\n",
    "        [(elbow_pos[0] + L2*jnp.cos(theta1+theta2)),\n",
    "         (elbow_pos[1] + L2*jnp.sin(theta1+theta2))]\n",
    "    )\n",
    "\n",
    "    return jnp.vstack([hand_pos, elbow_pos])"
   ]
  },
  {
   "cell_type": "code",
   "execution_count": null,
   "id": "8bafeef9",
   "metadata": {},
   "outputs": [],
   "source": [
    "pos_traj = jax.vmap(calc_arm_pos)(opt_xs[:, -4:-2])"
   ]
  },
  {
   "cell_type": "code",
   "execution_count": null,
   "id": "62e3f08b",
   "metadata": {},
   "outputs": [],
   "source": []
  },
  {
   "cell_type": "code",
   "execution_count": null,
   "id": "679618f0",
   "metadata": {},
   "outputs": [],
   "source": [
    "def plot_task_state(pos, targets, ax=None):\n",
    "    \"\"\"\n",
    "    \"\"\"\n",
    "    targets_cm = targets * 100 #cm\n",
    "\n",
    "    # Create figure if not given\n",
    "    if ax == None:\n",
    "        fig, ax = plt.subplots()\n",
    "    else:\n",
    "        ax.clear()\n",
    "\n",
    "    # Convert positions to cm\n",
    "    pos_cm = pos*100\n",
    "\n",
    "    # Target locations\n",
    "    ax.scatter(targets_cm[:, 0], targets_cm[:, 1], marker='s', color='green', s=200) #TODO, figure out how big these need to be\n",
    "\n",
    "    # Start Locations\n",
    "    ax.scatter(0., 0., color='red') # Shoulder\n",
    "    ax.scatter(pos_cm[0, 0], pos_cm[0, 1], color='blue') # Hand\n",
    "    ax.scatter(pos_cm[1, 0], pos_cm[1, 1], color='green') # Elbow\n",
    "\n",
    "    # Make arms by connecting joints\n",
    "    ax.plot([0., pos_cm[1, 0]], [0., pos_cm[1, 1]], color='blue') # Lower Arm\n",
    "    ax.plot([pos_cm[0, 0], pos_cm[1, 0]], [pos_cm[0, 1], pos_cm[1, 1]], color='blue') # Upper Arm\n",
    "\n",
    "    # Set axis boundaries\n",
    "    ax.set_xlim([-60, 60])\n",
    "    ax.set_ylim([-30, 60])\n",
    "\n",
    "    if ax == None:\n",
    "        plt.show()\n",
    "    else:\n",
    "        return ax"
   ]
  },
  {
   "cell_type": "code",
   "execution_count": null,
   "id": "2407b749",
   "metadata": {},
   "outputs": [],
   "source": [
    "fig, ax = plt.subplots()\n",
    "\n",
    "num_frames = 500\n",
    "frame_idx = jnp.linspace(0, len(pos_traj)-1, num_frames, dtype=int)\n",
    "sampled_pos = pos_traj[frame_idx]\n",
    "\n",
    "ani = FuncAnimation(fig, lambda f: plot_task_state(sampled_pos[f], targets, ax), frames=num_frames, interval=1 ,repeat=False, blit=True)\n",
    "plt.show()"
   ]
  },
  {
   "cell_type": "code",
   "execution_count": null,
   "id": "366d0be1",
   "metadata": {},
   "outputs": [],
   "source": [
    "target"
   ]
  },
  {
   "cell_type": "code",
   "execution_count": null,
   "id": "7eae4732",
   "metadata": {},
   "outputs": [],
   "source": [
    "pos_traj[-1]"
   ]
  },
  {
   "cell_type": "code",
   "execution_count": null,
   "id": "27acd507",
   "metadata": {},
   "outputs": [],
   "source": []
  }
 ],
 "metadata": {
  "kernelspec": {
   "display_name": "Python3 (prep_input)",
   "language": "python",
   "name": "prep_input"
  },
  "language_info": {
   "codemirror_mode": {
    "name": "ipython",
    "version": 3
   },
   "file_extension": ".py",
   "mimetype": "text/x-python",
   "name": "python",
   "nbconvert_exporter": "python",
   "pygments_lexer": "ipython3",
   "version": "3.10.16"
  }
 },
 "nbformat": 4,
 "nbformat_minor": 5
}
